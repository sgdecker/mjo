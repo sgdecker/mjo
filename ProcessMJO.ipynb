{
 "cells": [
  {
   "cell_type": "code",
   "execution_count": 5,
   "metadata": {
    "autoscroll": false,
    "collapsed": false,
    "ein.hycell": false,
    "ein.tags": "worksheet-0",
    "slideshow": {
     "slide_type": "-"
    }
   },
   "outputs": [],
   "source": [
    "from urllib.request import urlopen, Request\n",
    "import pickle\n",
    "import pandas as pd"
   ]
  },
  {
   "cell_type": "code",
   "execution_count": 6,
   "metadata": {
    "autoscroll": false,
    "collapsed": false,
    "ein.hycell": false,
    "ein.tags": "worksheet-0",
    "slideshow": {
     "slide_type": "-"
    }
   },
   "outputs": [],
   "source": [
    "url = 'http://www.bom.gov.au/climate/mjo/graphics/rmm.74toRealtime.txt'"
   ]
  },
  {
   "cell_type": "code",
   "execution_count": 7,
   "metadata": {
    "autoscroll": false,
    "collapsed": false,
    "ein.hycell": false,
    "ein.tags": "worksheet-0",
    "slideshow": {
     "slide_type": "-"
    }
   },
   "outputs": [],
   "source": [
    "headers = {'User-Agent': 'Mozilla/5.0'}\n",
    "req = Request(url=url, headers=headers) \n",
    "data = urlopen(req)\n",
    "df = pd.read_csv(data, sep='\\s+', skiprows=2, usecols=range(5), header=None,\n",
    "                     parse_dates=[[0, 1, 2]],\n",
    "                     names=['Year', 'Month', 'Day', 'RMM1', 'RMM2'])"
   ]
  },
  {
   "cell_type": "code",
   "execution_count": 10,
   "metadata": {
    "autoscroll": false,
    "collapsed": false,
    "ein.hycell": false,
    "ein.tags": "worksheet-0",
    "slideshow": {
     "slide_type": "-"
    }
   },
   "outputs": [],
   "source": [
    "mjo_df = df.set_index('Year_Month_Day')\n",
    "mjo_df.to_pickle('mjo.pickle.xz')"
   ]
  }
 ],
 "metadata": {
  "kernelspec": {
   "argv": [
    "/home/decker/local/anaconda3/envs/mjo/bin/python",
    "-m",
    "ipykernel_launcher",
    "-f",
    "{connection_file}"
   ],
   "display_name": "Python 3",
   "env": null,
   "interrupt_mode": "signal",
   "language": "python",
   "metadata": null,
   "name": "python3"
  },
  "name": "ProcessMJO.ipynb"
 },
 "nbformat": 4,
 "nbformat_minor": 2
}
